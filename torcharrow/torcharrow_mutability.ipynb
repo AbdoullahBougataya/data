{
 "metadata": {
  "language_info": {
   "codemirror_mode": {
    "name": "ipython",
    "version": 3
   },
   "file_extension": ".py",
   "mimetype": "text/x-python",
   "name": "python",
   "nbconvert_exporter": "python",
   "pygments_lexer": "ipython3",
   "version": "3.8.5"
  },
  "orig_nbformat": 2,
  "kernelspec": {
   "name": "python3",
   "display_name": "Python 3",
   "language": "python"
  }
 },
 "nbformat": 4,
 "nbformat_minor": 2,
 "cells": [
  {
   "source": [
    "# Torcharrow mutability\n",
    "\n",
    "Tocharrow columns and dataframe support row and column **append only** mutability. Append only models provide the big benefit of a declarative semantics for views of data, while still allowing for efficient imperative updates.\n",
    "\n",
    "We show the consequence of this model first for columns, then we explore mutability of dataframes.\n",
    " \n",
    " ## Mutability of Columns: Owners and Views \n",
    " \n",
    " Here is a simple column `x`:"
   ],
   "cell_type": "markdown",
   "metadata": {}
  },
  {
   "cell_type": "code",
   "execution_count": 1,
   "metadata": {},
   "outputs": [
    {
     "output_type": "execute_result",
     "data": {
      "text/plain": [
       "0  0\n",
       "1  1\n",
       "2  2\n",
       "3  3\n",
       "dtype: int64, length: 4, null_count: 0"
      ]
     },
     "metadata": {},
     "execution_count": 1
    }
   ],
   "source": [
    "import torcharrow as ta\n",
    "\n",
    "x = ta.Column([0,1,2,3])\n",
    "x"
   ]
  },
  {
   "source": [
    "We say `x` is the *owner* of the data since it created/updated the data last."
   ],
   "cell_type": "markdown",
   "metadata": {}
  },
  {
   "source": [
    "Any selection of this column (here `y`) produces a *view*. Most selections can be done in constant time:"
   ],
   "cell_type": "markdown",
   "metadata": {}
  },
  {
   "cell_type": "code",
   "execution_count": 2,
   "metadata": {},
   "outputs": [
    {
     "output_type": "execute_result",
     "data": {
      "text/plain": [
       "0  0\n",
       "1  1\n",
       "2  2\n",
       "3  3\n",
       "dtype: int64, length: 4, null_count: 0"
      ]
     },
     "metadata": {},
     "execution_count": 2
    }
   ],
   "source": [
    "y = x[:4]\n",
    "y"
   ]
  },
  {
   "source": [
    "When we update the owner `x` ...\n"
   ],
   "cell_type": "markdown",
   "metadata": {}
  },
  {
   "cell_type": "code",
   "execution_count": 3,
   "metadata": {},
   "outputs": [
    {
     "output_type": "execute_result",
     "data": {
      "text/plain": [
       "0  0\n",
       "1  1\n",
       "2  2\n",
       "3  3\n",
       "4  4\n",
       "dtype: int64, length: 5, null_count: 0"
      ]
     },
     "metadata": {},
     "execution_count": 3
    }
   ],
   "source": [
    "x.append(4)\n",
    "x"
   ]
  },
  {
   "source": [
    "... the view `y` is unimpacted:"
   ],
   "cell_type": "markdown",
   "metadata": {}
  },
  {
   "cell_type": "code",
   "execution_count": 4,
   "metadata": {},
   "outputs": [
    {
     "output_type": "execute_result",
     "data": {
      "text/plain": [
       "0  0\n",
       "1  1\n",
       "2  2\n",
       "3  3\n",
       "dtype: int64, length: 4, null_count: 0"
      ]
     },
     "metadata": {},
     "execution_count": 4
    }
   ],
   "source": [
    "y"
   ]
  },
  {
   "source": [
    "When we try to update the view, we get ..."
   ],
   "cell_type": "markdown",
   "metadata": {}
  },
  {
   "cell_type": "code",
   "execution_count": 5,
   "metadata": {},
   "outputs": [
    {
     "output_type": "stream",
     "name": "stdout",
     "text": [
      "column is not appendable\n"
     ]
    }
   ],
   "source": [
    "try: y.append(99)\n",
    "except AttributeError as err: print(err)"
   ]
  },
  {
   "source": [
    "... since the view did not copy the data. However if we copy `y` first, `y` becomes the owner of the copied data.\n"
   ],
   "cell_type": "markdown",
   "metadata": {}
  },
  {
   "source": [],
   "cell_type": "markdown",
   "metadata": {}
  },
  {
   "cell_type": "code",
   "execution_count": 6,
   "metadata": {},
   "outputs": [
    {
     "output_type": "execute_result",
     "data": {
      "text/plain": [
       "0   0\n",
       "1   1\n",
       "2   2\n",
       "3   3\n",
       "4  44\n",
       "dtype: int64, length: 5, null_count: 4"
      ]
     },
     "metadata": {},
     "execution_count": 6
    }
   ],
   "source": [
    "y= y.copy()\n",
    "y.append(44)\n",
    "y"
   ]
  },
  {
   "source": [
    "The original owner `x` has been unimpacted from the change to the copied view. So it can be extended without constraints."
   ],
   "cell_type": "markdown",
   "metadata": {}
  },
  {
   "cell_type": "code",
   "execution_count": 7,
   "metadata": {},
   "outputs": [
    {
     "output_type": "execute_result",
     "data": {
      "text/plain": [
       "0   0\n",
       "1   1\n",
       "2   2\n",
       "3   3\n",
       "4   4\n",
       "5  55\n",
       "dtype: int64, length: 6, null_count: 0"
      ]
     },
     "metadata": {},
     "execution_count": 7
    }
   ],
   "source": [
    "x.append(55)\n",
    "x"
   ]
  },
  {
   "source": [
    "Note that `copy` duplicates only the minimal amount of data needed to establish the receiver of the copy as the new owner of the copied data."
   ],
   "cell_type": "markdown",
   "metadata": {}
  },
  {
   "source": [
    "## Mutability for Dataframes: Sharing of Columns accross Dataframes\n",
    "\n",
    "A dataframe can be composed of owned columns and views. Columns can always be added to a dataframe as long as they have the same size ..."
   ],
   "cell_type": "markdown",
   "metadata": {}
  },
  {
   "cell_type": "code",
   "execution_count": 8,
   "metadata": {},
   "outputs": [
    {
     "output_type": "execute_result",
     "data": {
      "text/plain": [
       "  index  str      int\n",
       "-------  -----  -----\n",
       "      0  a          0\n",
       "      1  b          1\n",
       "      2  c          2\n",
       "dtype: Struct([Field('str', string), Field('int', int64)]), count: 3, null_count: 0"
      ]
     },
     "metadata": {},
     "execution_count": 8
    }
   ],
   "source": [
    "df = ta.DataFrame()\n",
    "df['str'] = ['a','b','c']\n",
    "df['int'] = [0,1,2]\n",
    "df"
   ]
  },
  {
   "source": [
    "... and as long as you don't override an existing column; otherwise you will get:\n"
   ],
   "cell_type": "markdown",
   "metadata": {}
  },
  {
   "cell_type": "code",
   "execution_count": 9,
   "metadata": {},
   "outputs": [
    {
     "output_type": "stream",
     "name": "stdout",
     "text": [
      "cannot override existing column int\n"
     ]
    }
   ],
   "source": [
    "try: df['int'] = [100,101,102]\n",
    "except AttributeError as err: print(err)"
   ]
  },
  {
   "source": [
    "\\[Remark: You can use the dataframes `assign` method to update a column, but this is not discussed here.\\]\n",
    "\n",
    "Any selection creates a new dataframe that shares the underlying data, here `ef` has a view on `dfs `'str'` column:"
   ],
   "cell_type": "markdown",
   "metadata": {}
  },
  {
   "cell_type": "code",
   "execution_count": 10,
   "metadata": {},
   "outputs": [
    {
     "output_type": "execute_result",
     "data": {
      "text/plain": [
       "  index  str\n",
       "-------  -----\n",
       "      0  a\n",
       "      1  b\n",
       "      2  c\n",
       "dtype: Struct([Field('str', string)]), count: 3, null_count: 0"
      ]
     },
     "metadata": {},
     "execution_count": 10
    }
   ],
   "source": [
    "ef = df[['str']]\n",
    "ef"
   ]
  },
  {
   "source": [
    "We can append a new column to df or ef, as long as they are of the same length:"
   ],
   "cell_type": "markdown",
   "metadata": {}
  },
  {
   "cell_type": "code",
   "execution_count": 11,
   "metadata": {},
   "outputs": [
    {
     "output_type": "execute_result",
     "data": {
      "text/plain": [
       "  index  str    bool\n",
       "-------  -----  ------\n",
       "      0  a      True\n",
       "      1  b      False\n",
       "      2  c      True\n",
       "dtype: Struct([Field('str', string), Field('bool', boolean)]), count: 3, null_count: 0"
      ]
     },
     "metadata": {},
     "execution_count": 11
    }
   ],
   "source": [
    "df['float'] = [1.0, 2.0, 3.0]\n",
    "ef['bool'] = [True, False, True]\n",
    "ef"
   ]
  },
  {
   "source": [
    "But as soon as one of dataframes performs an append (here `df`), it becomes the owner of its columns. Other references like `ef` become viewers of the shared columns."
   ],
   "cell_type": "markdown",
   "metadata": {}
  },
  {
   "cell_type": "code",
   "execution_count": 12,
   "metadata": {},
   "outputs": [
    {
     "output_type": "execute_result",
     "data": {
      "text/plain": [
       "  index  str      int    float\n",
       "-------  -----  -----  -------\n",
       "      0  a          0        1\n",
       "      1  b          1        2\n",
       "      2  c          2        3\n",
       "      3  d         33       55\n",
       "dtype: Struct([Field('str', string), Field('int', int64), Field('float', float64)]), count: 4, null_count: 0"
      ]
     },
     "metadata": {},
     "execution_count": 12
    }
   ],
   "source": [
    "df.append(('d',33,55.0))\n",
    "df"
   ]
  },
  {
   "source": [
    "Views are never impacted by appending to owners, so `ef` is still the same:"
   ],
   "cell_type": "markdown",
   "metadata": {}
  },
  {
   "cell_type": "code",
   "execution_count": 13,
   "metadata": {},
   "outputs": [
    {
     "output_type": "execute_result",
     "data": {
      "text/plain": [
       "  index  str    bool\n",
       "-------  -----  ------\n",
       "      0  a      True\n",
       "      1  b      False\n",
       "      2  c      True\n",
       "dtype: Struct([Field('str', string), Field('bool', boolean)]), count: 3, null_count: 0"
      ]
     },
     "metadata": {},
     "execution_count": 13
    }
   ],
   "source": [
    "ef"
   ]
  },
  {
   "source": [
    "But adding to `ef` fails, since `ef` has only a view on the `'str'` column. "
   ],
   "cell_type": "markdown",
   "metadata": {}
  },
  {
   "cell_type": "code",
   "execution_count": 14,
   "metadata": {},
   "outputs": [
    {
     "output_type": "stream",
     "name": "stdout",
     "text": [
      "column is not appendable\n"
     ]
    }
   ],
   "source": [
    "try: ef.append(('e',True))\n",
    "except AttributeError as err: print(err)"
   ]
  },
  {
   "source": [
    "We can fix this by first copying the data, which makes the receiver the owner of the columns. Once you own all columns you can append. "
   ],
   "cell_type": "markdown",
   "metadata": {}
  },
  {
   "cell_type": "code",
   "execution_count": 15,
   "metadata": {},
   "outputs": [
    {
     "output_type": "execute_result",
     "data": {
      "text/plain": [
       "  index  str      bool\n",
       "-------  -----  ------\n",
       "      0  a           1\n",
       "      1  b           0\n",
       "      2  c           1\n",
       "      3  e           1\n",
       "dtype: Struct([Field('str', string), Field('bool', boolean)]), count: 4, null_count: 3"
      ]
     },
     "metadata": {},
     "execution_count": 15
    }
   ],
   "source": [
    "ef = ef.copy()\n",
    "ef.append(('e',True))\n",
    "ef"
   ]
  },
  {
   "source": [
    "## Summary \n",
    "\n",
    "Torcharrow allows that\n",
    " - you can always append columns to a dataframe, provided they have the same length and the columns have a new name.\n",
    " - you can append a row to a column or dataframe, provided you own the column or set of of columns of the dataframe.\n",
    "\n",
    "We say\n",
    " - you own a column or set of columns of a dataframe, if you can read the columns or dataframes last row.\n",
    " - you can read the last row if you have created or written it or you have a view that includes it.\n",
    " - you can always become the owner of a column or dataframe by a copying it first. \n",
    "\n",
    "While this sounds complicated it is not: In fact few programs will ever require a copy! \n",
    "\n",
    "So torcharrow's append-only model gives us the best of both worlds: declarative programming with imperative efficiency!"
   ],
   "cell_type": "markdown",
   "metadata": {}
  }
 ]
}