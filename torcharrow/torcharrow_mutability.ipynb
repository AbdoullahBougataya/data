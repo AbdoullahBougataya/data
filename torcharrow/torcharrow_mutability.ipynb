{
 "metadata": {
  "language_info": {
   "codemirror_mode": {
    "name": "ipython",
    "version": 3
   },
   "file_extension": ".py",
   "mimetype": "text/x-python",
   "name": "python",
   "nbconvert_exporter": "python",
   "pygments_lexer": "ipython3",
   "version": "3.8.5-final"
  },
  "orig_nbformat": 2,
  "kernelspec": {
   "name": "python3",
   "display_name": "Python 3.8.5 64-bit ('base': conda)",
   "metadata": {
    "interpreter": {
     "hash": "56f626f2aa31d1996176a2034a75bfff22e4b2d79ede5b92d2ea330b3279997c"
    }
   }
  }
 },
 "nbformat": 4,
 "nbformat_minor": 2,
 "cells": [
  {
   "source": [
    "# Torcharrow mutability\n",
    "\n",
    "Tocharrow columns and dataframe support row and column **append only** mutability. Append only models provide the big benefit of a declarative semantics for views of data, while still allowing for efficient imperative updates.\n",
    "\n",
    "We show the consequence of this model first for columns, then we explore mutability of dataframes i more deatils, we finally analyze the technical condition for mutability.\n",
    " \n",
    " ## Mutability of Columns: Owners and Views \n",
    " \n",
    " Here is a simple column `x`:"
   ],
   "cell_type": "markdown",
   "metadata": {}
  },
  {
   "cell_type": "code",
   "execution_count": null,
   "metadata": {},
   "outputs": [],
   "source": [
    "import torcharrow as ta\n",
    "\n",
    "x = ta.Column([0,1,2,3])\n",
    "x"
   ]
  },
  {
   "source": [
    "We say `x` is the *owner* of the data since it created/updated the data last."
   ],
   "cell_type": "markdown",
   "metadata": {}
  },
  {
   "source": [
    "Any selection of this column (here `y`) produces a *view*. Most selections can be done in constant time:"
   ],
   "cell_type": "markdown",
   "metadata": {}
  },
  {
   "cell_type": "code",
   "execution_count": null,
   "metadata": {},
   "outputs": [],
   "source": [
    "y = x[:4]\n",
    "y"
   ]
  },
  {
   "source": [
    "When we update the owner `x` ...\n"
   ],
   "cell_type": "markdown",
   "metadata": {}
  },
  {
   "cell_type": "code",
   "execution_count": null,
   "metadata": {},
   "outputs": [],
   "source": [
    "x.append(4)\n",
    "x"
   ]
  },
  {
   "source": [
    "... the view `y` is unimpacted:"
   ],
   "cell_type": "markdown",
   "metadata": {}
  },
  {
   "cell_type": "code",
   "execution_count": null,
   "metadata": {},
   "outputs": [],
   "source": [
    "y"
   ]
  },
  {
   "source": [
    "When we try to update the view, we get ..."
   ],
   "cell_type": "markdown",
   "metadata": {}
  },
  {
   "cell_type": "code",
   "execution_count": null,
   "metadata": {},
   "outputs": [],
   "source": [
    "try: y.append(99)\n",
    "except AttributeError as err: print(err)"
   ]
  },
  {
   "source": [
    "... since the view did not copy the data. However if we copy `y` first, `y` becomes the owner of the copied data.\n"
   ],
   "cell_type": "markdown",
   "metadata": {}
  },
  {
   "source": [],
   "cell_type": "markdown",
   "metadata": {}
  },
  {
   "cell_type": "code",
   "execution_count": null,
   "metadata": {},
   "outputs": [],
   "source": [
    "y= y.copy()\n",
    "y.append(44)\n",
    "y"
   ]
  },
  {
   "source": [
    "The original owner `x` has been unimpacted from the change to the copied view. So it can be extended without constraints."
   ],
   "cell_type": "markdown",
   "metadata": {}
  },
  {
   "cell_type": "code",
   "execution_count": null,
   "metadata": {},
   "outputs": [],
   "source": [
    "x.append(55)\n",
    "x"
   ]
  },
  {
   "source": [
    "## Mutability for Dataframes: Sharing of Columns accross Dataframes\n",
    "\n",
    "A dataframe can be composed of owned columns and views. Columns can always be added to a dataframe as long as they have the same size ..."
   ],
   "cell_type": "markdown",
   "metadata": {}
  },
  {
   "cell_type": "code",
   "execution_count": null,
   "metadata": {},
   "outputs": [],
   "source": [
    "df = ta.DataFrame()\n",
    "df['str'] = ['a','b','c']\n",
    "df['int'] = [0,1,2]\n",
    "df"
   ]
  },
  {
   "source": [
    "... and as long as you don't override an existing column; otherwise you will get:\n"
   ],
   "cell_type": "markdown",
   "metadata": {}
  },
  {
   "cell_type": "code",
   "execution_count": null,
   "metadata": {},
   "outputs": [],
   "source": [
    "try: df['int'] = [100,101,102]\n",
    "except AttributeError as err: print(err)"
   ]
  },
  {
   "source": [
    "\\[Remark: You can use the dataframes `assign` method to update a column, but this is not discussed here.\\]\n",
    "\n",
    "Any selection creates a new dataframe that shares the underlying data, here `ef` has a view on `dfs `'str'` column:"
   ],
   "cell_type": "markdown",
   "metadata": {}
  },
  {
   "cell_type": "code",
   "execution_count": null,
   "metadata": {},
   "outputs": [],
   "source": [
    "ef = df[['str']]\n",
    "ef"
   ]
  },
  {
   "source": [
    "We can append a new column to df or ef, as long as they are of the same length:"
   ],
   "cell_type": "markdown",
   "metadata": {}
  },
  {
   "cell_type": "code",
   "execution_count": null,
   "metadata": {},
   "outputs": [],
   "source": [
    "df['float'] = [1.0, 2.0, 3.0]\n",
    "ef['bool'] = [True, False, True]\n",
    "ef"
   ]
  },
  {
   "source": [
    "But as soon as one of dataframes performs an append (here `df`), it becomes the owner of its columns, the others references like `ef` become viewers of the shared columns."
   ],
   "cell_type": "markdown",
   "metadata": {}
  },
  {
   "cell_type": "code",
   "execution_count": null,
   "metadata": {},
   "outputs": [],
   "source": [
    "df.append(('d',33,55.0))\n",
    "df"
   ]
  },
  {
   "source": [
    "Views are never impacted by appending to owners, so `ef` is still the same:"
   ],
   "cell_type": "markdown",
   "metadata": {}
  },
  {
   "cell_type": "code",
   "execution_count": null,
   "metadata": {},
   "outputs": [],
   "source": [
    "ef"
   ]
  },
  {
   "source": [
    "But adding to `ef` fails, since `ef` has only a view on the `'str'` column. "
   ],
   "cell_type": "markdown",
   "metadata": {}
  },
  {
   "cell_type": "code",
   "execution_count": null,
   "metadata": {},
   "outputs": [],
   "source": [
    "try: ef.append(('e',True))\n",
    "except AttributeError as err: print(err)"
   ]
  },
  {
   "source": [
    "We can fix this by first copying the data, which makes the receiver the owner of the columns. Once you own all columns you can append. "
   ],
   "cell_type": "markdown",
   "metadata": {}
  },
  {
   "cell_type": "code",
   "execution_count": null,
   "metadata": {},
   "outputs": [],
   "source": [
    "ef = ef.copy()\n",
    "ef.append(('e',True))\n",
    "ef"
   ]
  },
  {
   "source": [
    "## Summary \n",
    "\n",
    "Torcharrow allows that\n",
    " - you can always append columns to a dataframe, provided they have the same length and the columns have a new name.\n",
    " - you can append a row to a column or dataframe, provided you own the column or set of of columns of the dataframe.\n",
    "\n",
    "We say\n",
    " - you own a column or set of columns of a dataframe, if you can read the columns or dataframes last row.\n",
    " - you can read the last row if you have created or written it or you have a view that includes it.\n",
    " - you can always become the owner of a column or dataframe by a copying it first. \n",
    "\n",
    "While this sounds complicated it is not: In fact few programs will ever require a copy! \n",
    "\n",
    "So torcharrow's append-only model gives us the best of both worlds: declarative programming with imperative efficiency!"
   ],
   "cell_type": "markdown",
   "metadata": {}
  },
  {
   "cell_type": "code",
   "execution_count": null,
   "metadata": {},
   "outputs": [],
   "source": []
  }
 ]
}